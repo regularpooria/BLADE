{
 "cells": [
  {
   "cell_type": "markdown",
   "metadata": {},
   "source": [
    "Importing all of the necessary modules"
   ]
  },
  {
   "cell_type": "code",
   "execution_count": 6,
   "metadata": {},
   "outputs": [],
   "source": [
    "from scripts.embedding import model, MODEL_NAME, BATCH_SIZE\n",
    "from scripts.bugsinpy_utils import *\n",
    "\n",
    "import faiss\n",
    "import numpy as np\n",
    "import json, os"
   ]
  },
  {
   "cell_type": "markdown",
   "metadata": {},
   "source": [
    "Making sure the directories exist"
   ]
  },
  {
   "cell_type": "code",
   "execution_count": 7,
   "metadata": {},
   "outputs": [],
   "source": [
    "os.makedirs(os.path.abspath(f\"tmp/ast/results\"), exist_ok=True)\n",
    "K = 20"
   ]
  },
  {
   "cell_type": "markdown",
   "metadata": {},
   "source": [
    "Running each eligible bug through the model and embedding them, after then running cosine similarity to determine which files they think it should be changed"
   ]
  },
  {
   "cell_type": "code",
   "execution_count": 8,
   "metadata": {},
   "outputs": [],
   "source": [
    "projects = get_projects()\n",
    "from rank_bm25 import BM25Okapi\n",
    "\n",
    "for project in projects:\n",
    "    bugs = get_bugs(project)\n",
    "    code_chunks_path = f\"tmp/ast/chunks/code_chunks_{project}.json\"\n",
    "    embedding_index_path = f\"tmp/ast/embeddings/index_{project}.faiss\"\n",
    "    bug_result_path = os.path.abspath(f\"tmp/ast/results/bug_results_{project}.json\")\n",
    "\n",
    "    with open(code_chunks_path, \"r\") as f:\n",
    "        code_chunks = json.load(f)\n",
    "\n",
    "    index = faiss.read_index(embedding_index_path)\n",
    "\n",
    "    filtered_bugs = []\n",
    "    error_texts = []\n",
    "\n",
    "    # First pass: filter bugs and collect error traces\n",
    "    for bug in bugs:\n",
    "        changed_files = parse_changed_files(project, bug)\n",
    "        if len(changed_files) > 1:\n",
    "            continue\n",
    "        info = get_bug_info(project, bug)\n",
    "        error = extract_python_tracebacks(project, bug)\n",
    "        if error:\n",
    "            filtered_bugs.append(bug)\n",
    "            error_texts.append(error)\n",
    "\n",
    "    # Batch encode\n",
    "    if error_texts:\n",
    "        if BATCH_SIZE:\n",
    "            error_embeddings = model.encode(error_texts, batch_size=BATCH_SIZE, show_progress_bar=True)\n",
    "        else:\n",
    "            error_embeddings = model.encode(error_texts, show_progress_bar=True)\n",
    "\n",
    "        output = []\n",
    "        for bug, emb in zip(filtered_bugs, error_embeddings):\n",
    "            # Step 1: Prepare BM25 over code_chunks\n",
    "            all_code_texts = [chunk[\"code\"] for chunk in code_chunks]\n",
    "            bm25 = BM25Okapi([text.split() for text in all_code_texts])\n",
    "\n",
    "            # Step 2: Get top BM25 matches (limit FAISS search space)\n",
    "            query_text = error_texts[filtered_bugs.index(bug)]  # Matching query string\n",
    "            bm25_scores = bm25.get_scores(query_text.split())\n",
    "            top_bm25_indices = np.argsort(bm25_scores)[-K*20:]  # e.g., top 50\n",
    "\n",
    "            # Step 3: Get embeddings and file info for top BM25 candidates\n",
    "            top_code_chunks = [code_chunks[i] for i in top_bm25_indices]\n",
    "            top_embeddings = model.encode([chunk[\"code\"] for chunk in top_code_chunks])\n",
    "\n",
    "            # Step 4: Run FAISS on just the top BM25 candidates\n",
    "            sub_index = faiss.IndexFlatL2(top_embeddings[0].shape[0])\n",
    "            sub_index.add(np.array(top_embeddings).astype(\"float32\"))\n",
    "            _, sub_indices = sub_index.search(np.array([emb]).astype(\"float32\"), k=K)\n",
    "\n",
    "            # Step 5: Map back to original files\n",
    "            search_results = {\"index\": bug, \"files\": []}\n",
    "            for idx in sub_indices[0]:\n",
    "                result = top_code_chunks[idx]\n",
    "                search_results[\"files\"].append({\"file\": result[\"file\"], \"function\": result[\"name\"]})\n",
    "            output.append(search_results)\n",
    "\n",
    "        with open(bug_result_path, \"w\", encoding=\"utf-8\") as f:\n",
    "            json.dump(output, f, indent=2)\n"
   ]
  },
  {
   "cell_type": "markdown",
   "metadata": {},
   "source": [
    "Using that predictions to calculate success rate and show where each search was successful or not."
   ]
  },
  {
   "cell_type": "code",
   "execution_count": 9,
   "metadata": {},
   "outputs": [],
   "source": [
    "\n"
   ]
  },
  {
   "cell_type": "code",
   "execution_count": 10,
   "metadata": {},
   "outputs": [],
   "source": [
    "\n",
    "results_folder = os.path.abspath(\"tmp/ast/results\")\n",
    "results_files = os.listdir(results_folder)\n",
    "def analyze(k):\n",
    "    results = {\n",
    "        \"K\": k,\n",
    "        \"model_name\": MODEL_NAME,\n",
    "        \"searches_failed\": [],  # [{project_name, bug_id, detected_files: list, actual_file}]\n",
    "        \"searches_passed\": [],  # [{project_name, bug_id, detected_files: list, actual_files}]\n",
    "        \"success_rate\": 0,  # out of 100 (including bugs skipped)\n",
    "        \"success_projects\": {},  # {project_name, success_rate, success_rate_no_skip}\n",
    "    }\n",
    "    success_projects_tmp = {}\n",
    "    count = 0\n",
    "    maximum_bugs = 0\n",
    "    for project in results_files:\n",
    "        project_name = project.replace(\"bug_results_\", \"\").replace(\".json\", \"\")\n",
    "        bugs = get_bugs(project_name)\n",
    "        maximum_bugs += len(bugs)\n",
    "        success_projects_tmp[project_name] = {\n",
    "            \"failed\": 0,\n",
    "            \"passed\": 0,\n",
    "            \"total\": 0,\n",
    "        }\n",
    "\n",
    "        with open(f\"{results_folder}/{project}\", \"r\", encoding=\"utf-8\") as result_file:\n",
    "            data = json.loads(result_file.read())\n",
    "            for search_result in data:\n",
    "                changed_file = parse_changed_files(project_name, search_result[\"index\"])[0].split(\"/\")[-1]\n",
    "                files_predicted = [\n",
    "                    obj[\"file\"].split(\"/\")[-1] for obj in search_result[\"files\"][:k]\n",
    "                ]\n",
    "                if changed_file in files_predicted:\n",
    "                    results[\"searches_passed\"].append(\n",
    "                        {\n",
    "                            \"project_name\": project_name,\n",
    "                            \"bug_id\": search_result[\"index\"],\n",
    "                            \"detected_files\": files_predicted,\n",
    "                            \"actual_file\": changed_file,\n",
    "                        }\n",
    "                    )\n",
    "                    success_projects_tmp[project_name][\"passed\"] += 1\n",
    "                    success_projects_tmp[project_name][\"total\"] += 1\n",
    "                else:\n",
    "                    results[\"searches_failed\"].append(\n",
    "                        {\n",
    "                            \"project_name\": project_name,\n",
    "                            \"bug_id\": search_result[\"index\"],\n",
    "                            \"detected_files\": files_predicted,\n",
    "                            \"actual_file\": changed_file,\n",
    "                        }\n",
    "                    )\n",
    "                    success_projects_tmp[project_name][\"failed\"] += 1\n",
    "                    success_projects_tmp[project_name][\"total\"] += 1\n",
    "                    \n",
    "\n",
    "\n",
    "        searches_counted = (\n",
    "            success_projects_tmp[project_name][\"passed\"]\n",
    "            + success_projects_tmp[project_name][\"failed\"]\n",
    "        )\n",
    "\n",
    "        results[\"success_projects\"][project_name] = {\n",
    "            \"success_rate\": success_projects_tmp[project_name][\"passed\"] / searches_counted,\n",
    "        } | success_projects_tmp[project_name]\n",
    "\n",
    "    results[\"success_rate\"] = len(results[\"searches_passed\"]) / (len(results[\"searches_failed\"]) + len(results[\"searches_passed\"]))\n",
    "    with open(os.path.abspath(f\"results_{k}.json\"), \"w\", encoding=\"utf-8\") as file:\n",
    "        file.write(json.dumps(results, indent=2))\n",
    "        \n",
    "analyze(5)\n",
    "analyze(10)\n",
    "analyze(15)\n",
    "analyze(20)"
   ]
  }
 ],
 "metadata": {
  "kernelspec": {
   "display_name": "venv",
   "language": "python",
   "name": "python3"
  },
  "language_info": {
   "codemirror_mode": {
    "name": "ipython",
    "version": 3
   },
   "file_extension": ".py",
   "mimetype": "text/x-python",
   "name": "python",
   "nbconvert_exporter": "python",
   "pygments_lexer": "ipython3",
   "version": "3.10.12"
  }
 },
 "nbformat": 4,
 "nbformat_minor": 2
}
